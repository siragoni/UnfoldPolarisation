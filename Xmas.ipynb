{
 "cells": [
  {
   "cell_type": "code",
   "execution_count": 1,
   "metadata": {},
   "outputs": [],
   "source": [
    "import turtle"
   ]
  },
  {
   "cell_type": "code",
   "execution_count": 2,
   "metadata": {},
   "outputs": [],
   "source": [
    "bkg  = turtle.Screen()\n",
    "bkg.bgcolor(\"blue\")\n",
    "tree = turtle.Turtle()\n",
    "tree.color(\"forest green\")\n",
    "tree.penup()\n",
    "tree.goto(0,200)\n",
    "tree.pendown()\n",
    "tree.begin_fill()\n",
    "tree.fillcolor(\"green\")\n",
    "tree.goto(100,0)\n",
    "tree.goto(-100,0)\n",
    "tree.end_fill()\n",
    "tree.penup()\n"
   ]
  },
  {
   "cell_type": "code",
   "execution_count": 3,
   "metadata": {},
   "outputs": [],
   "source": [
    "def balls(turtle, size, x, y):\n",
    "    turtle.penup()\n",
    "    turtle.color(\"yellow\")\n",
    "    turtle.fillcolor(\"yellow\")\n",
    "    turtle.goto(x,y)\n",
    "    turtle.pendown()\n",
    "    turtle.begin_fill()\n",
    "    turtle.circle(size)\n",
    "    turtle.end_fill()"
   ]
  },
  {
   "cell_type": "code",
   "execution_count": 4,
   "metadata": {},
   "outputs": [],
   "source": [
    "balls(tree, 10, 0, 0)\n",
    "balls(tree, 10, 50, 50)\n",
    "balls(tree, 10, 0, 100)\n",
    "balls(tree, 10, 0, 190)"
   ]
  },
  {
   "cell_type": "code",
   "execution_count": null,
   "metadata": {},
   "outputs": [],
   "source": []
  }
 ],
 "metadata": {
  "kernelspec": {
   "display_name": "Python 3",
   "language": "python",
   "name": "python3"
  },
  "language_info": {
   "codemirror_mode": {
    "name": "ipython",
    "version": 3
   },
   "file_extension": ".py",
   "mimetype": "text/x-python",
   "name": "python",
   "nbconvert_exporter": "python",
   "pygments_lexer": "ipython3",
   "version": "3.7.4"
  }
 },
 "nbformat": 4,
 "nbformat_minor": 2
}
